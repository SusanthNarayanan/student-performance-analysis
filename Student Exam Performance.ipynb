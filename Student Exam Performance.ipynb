{
 "cells": [
  {
   "cell_type": "markdown",
   "metadata": {},
   "source": [
    "# Students exam performance analysis"
   ]
  },
  {
   "cell_type": "code",
   "execution_count": null,
   "metadata": {
    "_cell_guid": "b1076dfc-b9ad-4769-8c92-a6c4dae69d19",
    "_uuid": "8f2839f25d086af736a60e9eeb907d3b93b6e0e5"
   },
   "outputs": [],
   "source": [
    "import numpy as np # linear algebra\n",
    "import pandas as pd # data processing\n",
    "import matplotlib.pyplot as plt\n",
    "from sklearn import linear_model\n",
    "from sklearn.model_selection import train_test_split"
   ]
  },
  {
   "cell_type": "markdown",
   "metadata": {},
   "source": [
    "# Loading the data"
   ]
  },
  {
   "cell_type": "code",
   "execution_count": null,
   "metadata": {
    "_cell_guid": "79c7e3d0-c299-4dcb-8224-4455121ee9b0",
    "_uuid": "d629ff2d2480ee46fbb7e2d37f6b5fab8052498a"
   },
   "outputs": [],
   "source": [
    "data=pd.read_csv('E:\\SEM 5\\LAB\\ML LAB\\CAT 2\\doc\\StudentsPerformance.csv')\n",
    "data.head()"
   ]
  },
  {
   "cell_type": "markdown",
   "metadata": {},
   "source": [
    "# Exploratory Analysis"
   ]
  },
  {
   "cell_type": "code",
   "execution_count": null,
   "metadata": {},
   "outputs": [],
   "source": [
    "print('Math mean: ',data['math score'].mean(),\n",
    "      'Reading mean: ',data['reading score'].mean(),'Writing mean:',data['writing score'].mean())\n",
    "print('Number of female students in the sample: ',len(data.loc[data['gender']=='female']))"
   ]
  },
  {
   "cell_type": "code",
   "execution_count": null,
   "metadata": {},
   "outputs": [],
   "source": [
    "high_school=data.loc[data['parental level of education']=='high school']\n",
    "associates=data.loc[data['parental level of education']==\"associate's degree\"]\n",
    "bachelor=data.loc[data['parental level of education']==\"bachelor's degree\"]\n",
    "some_college=data.loc[data['parental level of education']=='some college']\n",
    "some_high_school=data.loc[data['parental level of education']=='some high school']\n",
    "master=data.loc[data['parental level of education']==\"master's degree\"]\n",
    "parental_education=['some_high_school','high_school','some_college','associates','bachelor','master']\n",
    "edu_list=[len(some_high_school),len(high_school),len(some_college),len(associates),len(bachelor),len(master)]\n",
    "plt.pie(edu_list,labels=parental_education)\n",
    "plt.show()"
   ]
  },
  {
   "cell_type": "code",
   "execution_count": null,
   "metadata": {},
   "outputs": [],
   "source": [
    "plt.hist(x=data['math score'], bins='auto', color='orange',\n",
    "                            alpha=0.7, rwidth=0.85)\n",
    "plt.xlabel('Math Score')\n",
    "plt.ylabel('Number of students')\n",
    "plt.title('Distribution on math test')\n",
    "plt.text(45,99,'Mean 66')\n",
    "plt.show()"
   ]
  },
  {
   "cell_type": "markdown",
   "metadata": {},
   "source": [
    "# Data Selection"
   ]
  },
  {
   "cell_type": "code",
   "execution_count": null,
   "metadata": {},
   "outputs": [],
   "source": [
    "parental_edu_score_rubric={'some high school':0,\n",
    "                           'high school':1,\n",
    "                           'some college':2,\n",
    "                           \"associate's degree\":3,\n",
    "                           \"bachelor's degree\":4,\n",
    "                           \"master's degree\":5}\n",
    "lunch_rubric={'standard':1,'free/reduced':0}\n",
    "course_rubric={'none':0,'completed':1}\n",
    "gender_rubric={'female':0,'male':1}"
   ]
  },
  {
   "cell_type": "code",
   "execution_count": null,
   "metadata": {},
   "outputs": [],
   "source": [
    "lst=[]\n",
    "for i in range(len(data)):\n",
    "    lst.append(data['math score'][i]+data['writing score'][i]+data['reading score'][i])\n",
    "    \n",
    "total_score=pd.Series(lst)"
   ]
  },
  {
   "cell_type": "code",
   "execution_count": null,
   "metadata": {},
   "outputs": [],
   "source": [
    "features=['parental_edu','lunch','test_prep','gender']\n",
    "df=pd.DataFrame(columns=features)\n",
    "for i in range(len(data)):\n",
    "    p=data['parental level of education'][i]\n",
    "    l=data['lunch'][i]\n",
    "    t=data['test preparation course'][i]\n",
    "    g=data['gender'][i]\n",
    "    df_temp=pd.DataFrame([[parental_edu_score_rubric[p],lunch_rubric[l],course_rubric[t],gender_rubric[g]]],\n",
    "                         columns=features)\n",
    "    df=df.append(df_temp,ignore_index=True,)\n",
    "df.head()"
   ]
  },
  {
   "cell_type": "markdown",
   "metadata": {},
   "source": [
    "# Linear Regression Models"
   ]
  },
  {
   "cell_type": "markdown",
   "metadata": {},
   "source": [
    "### 1. Regression of total scores on a list of features including gender, parental level of education, test preparation course, and lunch\n",
    "\n",
    "The low R^2 value (only 0.21) indicates that the correlation is not significant."
   ]
  },
  {
   "cell_type": "code",
   "execution_count": null,
   "metadata": {},
   "outputs": [],
   "source": [
    "model=linear_model.LinearRegression()\n",
    "regr=model.fit(df,total_score)\n",
    "print('coef: ',regr.coef_[0],regr.coef_[1],regr.coef_[2],regr.coef_[3])\n",
    "print('R^2: ',regr.score(df,total_score))"
   ]
  },
  {
   "cell_type": "markdown",
   "metadata": {},
   "source": [
    "### 2. Regression of subject scores on one another"
   ]
  },
  {
   "cell_type": "code",
   "execution_count": null,
   "metadata": {},
   "outputs": [],
   "source": [
    "math=np.array(data['math score']).reshape(-1,1)\n",
    "reading=np.array(data['reading score']).reshape(-1,1)\n",
    "writing=np.array(data['writing score']).reshape(-1,1)"
   ]
  },
  {
   "cell_type": "markdown",
   "metadata": {},
   "source": [
    "As evident in the scatterplot, there exist a positive linear correlation between math and reading scores, math and writing scores, and especially between reading and writing scores."
   ]
  },
  {
   "cell_type": "code",
   "execution_count": null,
   "metadata": {},
   "outputs": [],
   "source": [
    "plt.scatter(data['math score'],data['reading score'],alpha=0.4)\n",
    "plt.xlabel('Math Score')\n",
    "plt.ylabel('Reading Score')\n",
    "plt.title('Reading Score vs. Math Score')\n",
    "plt.show()\n",
    "\n",
    "plt.scatter(data['math score'],data['writing score'],alpha=0.4,color='orange')\n",
    "plt.xlabel('Math Score')\n",
    "plt.ylabel('Writing Score')\n",
    "plt.title('Writing Score vs. Math Score')\n",
    "plt.show()\n",
    "\n",
    "plt.scatter(data['writing score'],data['reading score'],alpha=0.4,color='green')\n",
    "plt.xlabel('writing score')\n",
    "plt.ylabel('reading Score')\n",
    "plt.title('reading Score vs. writing Score')\n",
    "plt.show()"
   ]
  },
  {
   "cell_type": "markdown",
   "metadata": {},
   "source": [
    "As the regression below manifests, there exist some level of correlation between math score and reading score;  \n",
    "There exist an extremely strong correlation between reading and writing score, which also makes sense intuitively."
   ]
  },
  {
   "cell_type": "code",
   "execution_count": null,
   "metadata": {},
   "outputs": [],
   "source": [
    "math_reading=linear_model.LinearRegression()\n",
    "mr=math_reading.fit(math,reading)\n",
    "print(mr.score(math,reading))"
   ]
  },
  {
   "cell_type": "code",
   "execution_count": null,
   "metadata": {},
   "outputs": [],
   "source": [
    "math_writing=linear_model.LinearRegression()\n",
    "mwr=math_writing.fit(math,writing)\n",
    "print(mwr.score(math,writing))"
   ]
  },
  {
   "cell_type": "code",
   "execution_count": null,
   "metadata": {},
   "outputs": [],
   "source": [
    "reading_writing=linear_model.LinearRegression()\n",
    "rw=reading_writing.fit(reading,writing)\n",
    "print(rw.score(reading,writing))"
   ]
  },
  {
   "cell_type": "code",
   "execution_count": null,
   "metadata": {},
   "outputs": [],
   "source": []
  }
 ],
 "metadata": {
  "kernelspec": {
   "display_name": "Python 3 (ipykernel)",
   "language": "python",
   "name": "python3"
  },
  "language_info": {
   "codemirror_mode": {
    "name": "ipython",
    "version": 3
   },
   "file_extension": ".py",
   "mimetype": "text/x-python",
   "name": "python",
   "nbconvert_exporter": "python",
   "pygments_lexer": "ipython3",
   "version": "3.9.12"
  }
 },
 "nbformat": 4,
 "nbformat_minor": 1
}
