{
 "cells": [
  {
   "cell_type": "markdown",
   "id": "b28bc066",
   "metadata": {},
   "source": [
    "# Students exam performance analysis"
   ]
  },
  {
   "cell_type": "code",
   "execution_count": null,
   "id": "58023978",
   "metadata": {},
   "outputs": [],
   "source": [
    "import numpy as np\n",
    "import pandas as pd\n",
    "import matplotlib.pyplot as plt\n",
    "import seaborn as sns\n",
    "import pandas_profiling\n",
    "import math\n"
   ]
  },
  {
   "cell_type": "markdown",
   "id": "6659dfdb",
   "metadata": {},
   "source": [
    "# Loading the data"
   ]
  },
  {
   "cell_type": "code",
   "execution_count": null,
   "id": "eeabfbcf",
   "metadata": {},
   "outputs": [],
   "source": [
    "df=pd.read_csv('E:\\SEM 5\\LAB\\ML LAB\\CAT 2\\doc\\StudentsPerformance.csv')\n",
    "df.head()"
   ]
  },
  {
   "cell_type": "code",
   "execution_count": null,
   "id": "656708ac",
   "metadata": {},
   "outputs": [],
   "source": [
    "new_df=df\n",
    "new_df.head()"
   ]
  },
  {
   "cell_type": "markdown",
   "id": "71b0c787",
   "metadata": {},
   "source": [
    "# Data Cleaning"
   ]
  },
  {
   "cell_type": "code",
   "execution_count": null,
   "id": "47bd7ad0",
   "metadata": {},
   "outputs": [],
   "source": [
    "df.info()"
   ]
  },
  {
   "cell_type": "code",
   "execution_count": null,
   "id": "abab4308",
   "metadata": {},
   "outputs": [],
   "source": [
    "df.describe()"
   ]
  },
  {
   "cell_type": "code",
   "execution_count": null,
   "id": "ce762847",
   "metadata": {},
   "outputs": [],
   "source": [
    "df.isnull()"
   ]
  },
  {
   "cell_type": "code",
   "execution_count": null,
   "id": "4c3e3050",
   "metadata": {},
   "outputs": [],
   "source": [
    "#Renaming the column name for understanding\n",
    "df=df.rename(columns={'parental level of education':'parental_level_of_education',\n",
    "                      'test preparation course':'test_preparation_course',\n",
    "                     'math score':'math_score','reading score':'reading_score','writing score':'writing_score'})\n",
    "df.head()"
   ]
  },
  {
   "cell_type": "code",
   "execution_count": null,
   "id": "57f13ecd",
   "metadata": {},
   "outputs": [],
   "source": [
    "#Finding the unique values in each columns\n",
    "df.parental_level_of_education.unique()"
   ]
  },
  {
   "cell_type": "code",
   "execution_count": null,
   "id": "b2f64560",
   "metadata": {},
   "outputs": [],
   "source": [
    "df.lunch.unique()\n"
   ]
  },
  {
   "cell_type": "code",
   "execution_count": null,
   "id": "776e0ea1",
   "metadata": {},
   "outputs": [],
   "source": [
    "df.test_preparation_course.unique()\n"
   ]
  },
  {
   "cell_type": "code",
   "execution_count": null,
   "id": "a5922e5e",
   "metadata": {},
   "outputs": [],
   "source": [
    "#Replacing the char values into unique integer values for the regression\n",
    "\n",
    "\n",
    "df=df.replace(['group A','group B','group C','group D','group E'],[0,1,2,3,4])\n",
    "df=df.replace([\"bachelor's degree\", 'some college', \"master's degree\",\"associate's degree\", 'high school', 'some high school'],\n",
    "             [0,1,2,3,4,5])\n",
    "df=df.replace(['standard', 'free/reduced'],[0,1])\n",
    "df=df.replace(['none', 'completed'],[0,1])\n",
    "df=df.replace(['male','female'],[0,1])\n",
    "df.head()"
   ]
  },
  {
   "cell_type": "code",
   "execution_count": null,
   "id": "64efde60",
   "metadata": {},
   "outputs": [],
   "source": [
    "#Finding the average score of math, reading and writing\n",
    "\n",
    "\n",
    "df['total_score']=(df['math_score']+df['reading_score']+df['writing_score'])/3 \n",
    "df['total_score']=df['total_score'].astype(int)\n",
    "df.head()"
   ]
  },
  {
   "cell_type": "markdown",
   "id": "37e14e4b",
   "metadata": {},
   "source": [
    "# Linear Regression"
   ]
  },
  {
   "cell_type": "code",
   "execution_count": null,
   "id": "1cfc0ea1",
   "metadata": {},
   "outputs": [],
   "source": [
    "x=df[['gender','race/ethnicity','parental_level_of_education','lunch','test_preparation_course','math_score','reading_score','writing_score']]\n",
    "y=df['total_score']"
   ]
  },
  {
   "cell_type": "code",
   "execution_count": null,
   "id": "ffe8bd7d",
   "metadata": {},
   "outputs": [],
   "source": [
    "#The no of rows and columns present in the dataset\n",
    "\n",
    "x.shape,y.shape"
   ]
  },
  {
   "cell_type": "code",
   "execution_count": null,
   "id": "f09a1dcf",
   "metadata": {},
   "outputs": [],
   "source": [
    "#Splitting the dataset into train and test\n",
    "\n",
    "from sklearn.model_selection import train_test_split\n",
    "x_train,x_test,y_train,y_test=train_test_split(x,y,test_size=0.3,random_state=7)\n",
    "print(x_train.shape,y_train.shape)\n"
   ]
  },
  {
   "cell_type": "code",
   "execution_count": null,
   "id": "9b94cc24",
   "metadata": {},
   "outputs": [],
   "source": [
    "print(x_test.shape,y_test.shape)\n"
   ]
  },
  {
   "cell_type": "code",
   "execution_count": null,
   "id": "f0c1584e",
   "metadata": {},
   "outputs": [],
   "source": [
    "#Linear Regression model\n",
    "\n",
    "from sklearn.linear_model import LinearRegression\n",
    "model=LinearRegression()\n",
    "model.fit(x_train,y_train)\n",
    "prediction=model.predict(x_test)\n",
    "plt.figure(figsize=(11,6))\n",
    "plt.scatter(y_test,prediction,edgecolors='black',c='red',vmin=30,vmax=70)\n",
    "\n",
    "#x.set_yticklabels([30,35,40,45,50])"
   ]
  },
  {
   "cell_type": "code",
   "execution_count": null,
   "id": "3571540d",
   "metadata": {},
   "outputs": [],
   "source": [
    "#Root Mean Square error, the lower RMSE the better is the model\n",
    "\n",
    "from sklearn import metrics\n",
    "mean_sq=metrics.mean_squared_error(y_test,prediction)\n",
    "RMSE=np.sqrt(mean_sq)\n",
    "RMSE"
   ]
  },
  {
   "cell_type": "code",
   "execution_count": null,
   "id": "fc146b8f",
   "metadata": {},
   "outputs": [],
   "source": [
    "#R2 value, higher the r2 score better is the model\n",
    "\n",
    "from sklearn.metrics import r2_score\n",
    "r2_score(y_test,prediction)"
   ]
  },
  {
   "cell_type": "markdown",
   "id": "f91006de",
   "metadata": {},
   "source": [
    "# Multiple Linear Regression"
   ]
  },
  {
   "cell_type": "code",
   "execution_count": null,
   "id": "93beaed1",
   "metadata": {},
   "outputs": [],
   "source": [
    "ab= {'x1':df.iloc[:,8],'x2':df.iloc[:,6],'x3':df.iloc[:,7],'y':df.iloc[:,5]}\n",
    "df=pd.DataFrame(ab)"
   ]
  },
  {
   "cell_type": "code",
   "execution_count": null,
   "id": "bd958427",
   "metadata": {},
   "outputs": [],
   "source": [
    "class SPA:\n",
    "    def __init__(self):\n",
    "        self.lst = []\n",
    "\n",
    "    def mean(self, data):\n",
    "        return (sum(data) / len(data))\n",
    "\n",
    "    def Prediction(self, x, y, x1, x2, x3):\n",
    "        arx = np.array(x)\n",
    "        #print(arx)\n",
    "        artx = arx.T\n",
    "        ary = np.array(y)\n",
    "        fst = np.linalg.inv(np.dot(artx, arx))\n",
    "        sec = np.dot(artx, ary)\n",
    "        res = np.dot(fst, sec)\n",
    "        b0 = self.mean(y) - (self.mean(x1) * res[0]) - (self.mean(x2) * res[1]) - (self.mean(x3) * res[2])\n",
    "        print(\"Regression Equation: Y = \",b0,\"+\",res[0],\"x1 +\",res[1],\"x2 +\",res[2],\"x3\")\n",
    "        y_predict=[]\n",
    "        ss_total=[]\n",
    "        ss_res=[]\n",
    "        for i in range(len(x1)):\n",
    "            y_predict.append(b0 + res[0]*x1[i] + res[1]*x2[i] + res[2]*x3[i]) \n",
    "            ss_total.append((y[i] - self.mean(y)) ** 2)\n",
    "            ss_res.append((y[i] - y_predict[i]) ** 2)\n",
    "        sss_res=sum(ss_res)\n",
    "        sss_total=sum(ss_total)\n",
    "        r2 = 1 - (sss_res/sss_total)\n",
    "        print('R2 Score',r2)"
   ]
  },
  {
   "cell_type": "code",
   "execution_count": null,
   "id": "3c5fc107",
   "metadata": {},
   "outputs": [],
   "source": [
    "##R2 value, higher the r2 score better is the model\n",
    "\n",
    "a=SPA()\n",
    "a.Prediction(df[['x1','x2','x3']],df['y'],df['x1'],df['x2'],df['x3'])"
   ]
  }
 ],
 "metadata": {
  "kernelspec": {
   "display_name": "Python 3 (ipykernel)",
   "language": "python",
   "name": "python3"
  },
  "language_info": {
   "codemirror_mode": {
    "name": "ipython",
    "version": 3
   },
   "file_extension": ".py",
   "mimetype": "text/x-python",
   "name": "python",
   "nbconvert_exporter": "python",
   "pygments_lexer": "ipython3",
   "version": "3.9.12"
  }
 },
 "nbformat": 4,
 "nbformat_minor": 5
}
